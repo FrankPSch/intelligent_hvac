{
 "cells": [
  {
   "cell_type": "code",
   "execution_count": 3,
   "metadata": {},
   "outputs": [
    {
     "name": "stdout",
     "output_type": "stream",
     "text": [
      "Connection to mysql+mysqldb://localhost:3306/HVAC successfull\n",
      "2017-01-01 00:00:00 2017-01-01 00:10:00 [<class 'hvacDBMapping.ThermafuserReading'>]\n",
      "ThermafuserReadings (234, 5)\n",
      "[[  46.    76.    70.    77.5   67.7]\n",
      " [  21.    76.    70.    90.    71.1]\n",
      " [  21.    76.    70.    71.8   64.4]\n",
      " ..., \n",
      " [   0.    90.    60.    74.4   72.8]\n",
      " [ 129.    90.    60.    61.2   59.4]\n",
      " [  57.    90.    60.    62.5   63.6]]\n"
     ]
    }
   ],
   "source": [
    "import anomaly_detection\n",
    "from datetime import datetime\n",
    "from IPython.display import display, HTML\n",
    "from numpy import nan\n",
    "import numpy as np\n",
    "\n",
    "desiredComponents = ['Thermafuser']\n",
    "\n",
    "startDateTime = datetime(2017, 1, 1, hour=0, minute=0, second=0, microsecond=0)\n",
    "endDateTime = datetime(2017, 1, 1, hour=0, minute=10, second=0, microsecond=0)\n",
    "    \n",
    "dataFrames = anomaly_detection.loadData(startDateTime, endDateTime, desiredComponents)\n",
    "arrays = anomaly_detection.getDataForGaussianAnalysis(dataFrames)\n",
    "\n",
    "for key in arrays:\n",
    "    print(key, arrays[key].shape)\n",
    "    print(arrays[key])"
   ]
  },
  {
   "cell_type": "code",
   "execution_count": null,
   "metadata": {
    "collapsed": true
   },
   "outputs": [],
   "source": []
  },
  {
   "cell_type": "code",
   "execution_count": null,
   "metadata": {
    "collapsed": true
   },
   "outputs": [],
   "source": []
  }
 ],
 "metadata": {
  "kernelspec": {
   "display_name": "Python 3",
   "language": "python",
   "name": "python3"
  },
  "language_info": {
   "codemirror_mode": {
    "name": "ipython",
    "version": 3
   },
   "file_extension": ".py",
   "mimetype": "text/x-python",
   "name": "python",
   "nbconvert_exporter": "python",
   "pygments_lexer": "ipython3",
   "version": "3.6.1"
  }
 },
 "nbformat": 4,
 "nbformat_minor": 2
}
