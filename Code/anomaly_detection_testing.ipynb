{
 "cells": [
  {
   "cell_type": "code",
   "execution_count": 2,
   "metadata": {},
   "outputs": [
    {
     "name": "stdout",
     "output_type": "stream",
     "text": [
      "Connection to mysql+mysqldb://localhost:3306/HVAC successfull\n",
      "2017-01-01 00:00:00 2017-01-01 00:10:00 [<class 'hvacDBMapping.ThermafuserReading'>]\n"
     ]
    },
    {
     "data": {
      "text/html": [
       "<div>\n",
       "<style>\n",
       "    .dataframe thead tr:only-child th {\n",
       "        text-align: right;\n",
       "    }\n",
       "\n",
       "    .dataframe thead th {\n",
       "        text-align: left;\n",
       "    }\n",
       "\n",
       "    .dataframe tbody tr th {\n",
       "        vertical-align: top;\n",
       "    }\n",
       "</style>\n",
       "<table border=\"1\" class=\"dataframe\">\n",
       "  <thead>\n",
       "    <tr style=\"text-align: right;\">\n",
       "      <th></th>\n",
       "      <th></th>\n",
       "      <th>airflowFeedback</th>\n",
       "      <th>occupiedCoolingSetpoint</th>\n",
       "      <th>occupiedHeatingSetpoint</th>\n",
       "      <th>roomOccupied</th>\n",
       "      <th>supplyAir</th>\n",
       "      <th>zoneTemperature</th>\n",
       "    </tr>\n",
       "    <tr>\n",
       "      <th>timestamp</th>\n",
       "      <th>thermafuserId</th>\n",
       "      <th></th>\n",
       "      <th></th>\n",
       "      <th></th>\n",
       "      <th></th>\n",
       "      <th></th>\n",
       "      <th></th>\n",
       "    </tr>\n",
       "  </thead>\n",
       "  <tbody>\n",
       "    <tr>\n",
       "      <th rowspan=\"5\" valign=\"top\">2017-01-01</th>\n",
       "      <th>1</th>\n",
       "      <td>46.0</td>\n",
       "      <td>76.0</td>\n",
       "      <td>70.0</td>\n",
       "      <td>True</td>\n",
       "      <td>77.5</td>\n",
       "      <td>67.7</td>\n",
       "    </tr>\n",
       "    <tr>\n",
       "      <th>2</th>\n",
       "      <td>21.0</td>\n",
       "      <td>76.0</td>\n",
       "      <td>70.0</td>\n",
       "      <td>True</td>\n",
       "      <td>90.0</td>\n",
       "      <td>71.1</td>\n",
       "    </tr>\n",
       "    <tr>\n",
       "      <th>3</th>\n",
       "      <td>21.0</td>\n",
       "      <td>76.0</td>\n",
       "      <td>70.0</td>\n",
       "      <td>True</td>\n",
       "      <td>71.8</td>\n",
       "      <td>64.4</td>\n",
       "    </tr>\n",
       "    <tr>\n",
       "      <th>4</th>\n",
       "      <td>53.0</td>\n",
       "      <td>76.0</td>\n",
       "      <td>70.0</td>\n",
       "      <td>True</td>\n",
       "      <td>73.4</td>\n",
       "      <td>63.5</td>\n",
       "    </tr>\n",
       "    <tr>\n",
       "      <th>5</th>\n",
       "      <td>63.0</td>\n",
       "      <td>76.0</td>\n",
       "      <td>70.0</td>\n",
       "      <td>True</td>\n",
       "      <td>85.7</td>\n",
       "      <td>66.3</td>\n",
       "    </tr>\n",
       "  </tbody>\n",
       "</table>\n",
       "</div>"
      ],
      "text/plain": [
       "                          airflowFeedback  occupiedCoolingSetpoint  \\\n",
       "timestamp  thermafuserId                                             \n",
       "2017-01-01 1                         46.0                     76.0   \n",
       "           2                         21.0                     76.0   \n",
       "           3                         21.0                     76.0   \n",
       "           4                         53.0                     76.0   \n",
       "           5                         63.0                     76.0   \n",
       "\n",
       "                          occupiedHeatingSetpoint  roomOccupied  supplyAir  \\\n",
       "timestamp  thermafuserId                                                     \n",
       "2017-01-01 1                                 70.0          True       77.5   \n",
       "           2                                 70.0          True       90.0   \n",
       "           3                                 70.0          True       71.8   \n",
       "           4                                 70.0          True       73.4   \n",
       "           5                                 70.0          True       85.7   \n",
       "\n",
       "                          zoneTemperature  \n",
       "timestamp  thermafuserId                   \n",
       "2017-01-01 1                         67.7  \n",
       "           2                         71.1  \n",
       "           3                         64.4  \n",
       "           4                         63.5  \n",
       "           5                         66.3  "
      ]
     },
     "metadata": {},
     "output_type": "display_data"
    },
    {
     "data": {
      "image/png": "[encoded data removed]",
      "text/plain": [
       "<matplotlib.figure.Figure at 0x135126080>"
      ]
     },
     "metadata": {},
     "output_type": "display_data"
    }
   ],
   "source": [
    "import anomaly_detection\n",
    "import numpy as np\n",
    "import matplotlib.pyplot as plt\n",
    "import matplotlib.font_manager\n",
    "from datetime import datetime\n",
    "from IPython.display import display, HTML\n",
    "from numpy import nan\n",
    "from sklearn.covariance import EllipticEnvelope\n",
    "\n",
    "desiredComponents = ['Thermafuser']\n",
    "\n",
    "startDateTime = datetime(2017, 1, 1, hour=0, minute=0, second=0, microsecond=0)\n",
    "endDateTime = datetime(2017, 1, 1, hour=0, minute=10, second=0, microsecond=0)\n",
    "    \n",
    "dataFrames = anomaly_detection.loadData(startDateTime, endDateTime, desiredComponents)\n",
    "arrays = anomaly_detection.getDataForGaussianAnalysis(dataFrames)\n",
    "\n",
    "for key in dataFrames:\n",
    "    display(dataFrames[key].head())\n",
    "\n",
    "plt.figure(1)\n",
    "for key in arrays:\n",
    "    #print(key, arrays[key].shape)\n",
    "    #print(arrays[key])\n",
    "    X = arrays[key]\n",
    "    gaussianClassifier = EllipticEnvelope(contamination=0.12)\n",
    "    gaussianClassifier.fit(X)\n",
    "    \n",
    "    xx1, yy1 = np.meshgrid(np.linspace(-10, 140, 500), np.linspace(0, 140, 500))\n",
    "    z = gaussianClassifier.decision_function(np.c_[xx1.ravel(), yy1.ravel()])\n",
    "    z = z.reshape(xx1.shape)\n",
    "    plt.contour(xx1, yy1, z, levels=[0], linewidths=2, colors='g')\n",
    "    \n",
    "    plt.title(\"Outlier detection on a real data set (thermafuser readings)\")\n",
    "    plt.scatter(X[:, 0], X[:, 1], color='black')\n",
    "    \n",
    "plt.show()\n",
    "    "
   ]
  },
  {
   "cell_type": "code",
   "execution_count": null,
   "metadata": {
    "collapsed": true
   },
   "outputs": [],
   "source": []
  },
  {
   "cell_type": "code",
   "execution_count": null,
   "metadata": {
    "collapsed": true
   },
   "outputs": [],
   "source": []
  },
  {
   "cell_type": "code",
   "execution_count": null,
   "metadata": {
    "collapsed": true
   },
   "outputs": [],
   "source": []
  }
 ],
 "metadata": {
  "kernelspec": {
   "display_name": "Python 3",
   "language": "python",
   "name": "python3"
  },
  "language_info": {
   "codemirror_mode": {
    "name": "ipython",
    "version": 3
   },
   "file_extension": ".py",
   "mimetype": "text/x-python",
   "name": "python",
   "nbconvert_exporter": "python",
   "pygments_lexer": "ipython3",
   "version": "3.6.1"
  }
 },
 "nbformat": 4,
 "nbformat_minor": 2
}
